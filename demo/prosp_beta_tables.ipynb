{
 "cells": [
  {
   "cell_type": "markdown",
   "id": "d1b4e197",
   "metadata": {},
   "source": [
    "This notebook generates the data files containing PDF(z), which are required by Prospector-$\\beta$.\n",
    "\n",
    "See Sec. 3.2 of [Wang et al. 2023](https://ui.adsabs.harvard.edu/abs/2023ApJ...944L..58W/abstract) for details."
   ]
  },
  {
   "cell_type": "code",
   "execution_count": null,
   "id": "e80f14ed",
   "metadata": {},
   "outputs": [],
   "source": [
    "%matplotlib inline\n",
    "import matplotlib.pyplot as plt\n",
    "import matplotlib_inline.backend_inline\n",
    "matplotlib_inline.backend_inline.set_matplotlib_formats('retina')"
   ]
  },
  {
   "cell_type": "code",
   "execution_count": null,
   "id": "d41f6105",
   "metadata": {
    "scrolled": true
   },
   "outputs": [],
   "source": [
    "import os, sys\n",
    "import numpy as np\n",
    "from scipy.interpolate import interp1d, UnivariateSpline\n",
    "from scipy.ndimage import gaussian_filter1d\n",
    "from astropy.table import Table\n",
    "from astropy.cosmology import WMAP9, z_at_value\n",
    "import astropy.units as u\n",
    "\n",
    "sys.path.append('../prospect/models/')\n",
    "import priors as PB"
   ]
  },
  {
   "cell_type": "code",
   "execution_count": null,
   "id": "b3ba7cc3",
   "metadata": {},
   "outputs": [],
   "source": [
    "const_phi = True # Leja+20 mass functions\n",
    "# const_phi = False # Leja+20 at z < 3 & transiting to Tacchella+18 mass functions"
   ]
  },
  {
   "cell_type": "code",
   "execution_count": null,
   "id": "1c0cb250",
   "metadata": {
    "scrolled": true
   },
   "outputs": [],
   "source": [
    "# read in the mass complete limits that are estimated from the mock catalog described in sec. 2 of Wang+23\n",
    "# in principle these should be re-generated for different data sets\n",
    "prior_data_dir = '../prospect/models/prior_data/'\n",
    "z_bins_ctr, mc_ctr = np.loadtxt(prior_data_dir+'mc_from_mocks.txt', dtype=float, unpack=True)\n",
    "\n",
    "def mass_completion_at_z_from_cat(zred):\n",
    "    if zred <= 10 and zred >= 1:\n",
    "        return np.poly1d(np.polyfit(z_bins_ctr, mc_ctr, 3))(zred)\n",
    "    elif zred < 1:\n",
    "        return np.poly1d(np.polyfit(z_bins_ctr[:3], mc_ctr[:3], 1))(zred)\n",
    "    else:\n",
    "        fintp_z_mc = interp1d(z_bins_ctr, mc_ctr, kind='nearest', fill_value=\"extrapolate\")\n",
    "        return fintp_z_mc(zred)\n",
    "\n",
    "zgrid = np.linspace(0., 20, 101)\n",
    "\n",
    "from_fintp_z_mc = []\n",
    "for this_z in zgrid:\n",
    "    from_fintp_z_mc.append(mass_completion_at_z_from_cat(this_z))\n",
    "    \n",
    "from_fintp_z_mc = gaussian_filter1d(from_fintp_z_mc, 1)\n",
    "def mass_completion_at_z(zred):\n",
    "    fintp_z_mc = interp1d(zgrid, from_fintp_z_mc, kind='cubic', fill_value=\"extrapolate\")\n",
    "    return fintp_z_mc(zred)\n",
    "\n",
    "from_fintp_z_mc_sm = []\n",
    "for this_z in zgrid:\n",
    "    from_fintp_z_mc_sm.append(mass_completion_at_z(this_z))\n",
    "    \n",
    "plt.plot(zgrid, from_fintp_z_mc_sm, label='Interpolation')\n",
    "plt.scatter(z_bins_ctr, mc_ctr, s=5, label='Mock catalog', color='k')\n",
    "\n",
    "plt.xlabel(r'z')\n",
    "plt.ylabel(r'log $M_{c} \\, [M_\\odot]$')\n",
    "plt.legend()\n",
    "# plt.savefig('figs/mc_z.png', bbox_inches='tight')\n",
    "plt.show()"
   ]
  },
  {
   "cell_type": "markdown",
   "id": "cdc09b22",
   "metadata": {},
   "source": [
    "# PDF(z)"
   ]
  },
  {
   "cell_type": "code",
   "execution_count": null,
   "id": "88783690",
   "metadata": {},
   "outputs": [],
   "source": [
    "def n_at_z_trapz(z0, logmc=None, const_phi=False):\n",
    "    '''\n",
    "    const_phi: if True, use L20 massfunctions; if False, use L20+T18 mass functions.\n",
    "    logmc: if None, then use mass_completion_at_z(z0)\n",
    "    '''\n",
    "    if logmc is None:\n",
    "        logmc_at_z0 = mass_completion_at_z(z0)\n",
    "    else:\n",
    "        logmc_at_z0 = logmc * 1\n",
    "    \n",
    "    logm_grid = np.linspace(logmc_at_z0, 20, 501)\n",
    "    phi_50 = PB.mass_func_at_z(z0, logm_grid, const_phi)\n",
    "    \n",
    "    n = np.trapz(phi_50, logm_grid)\n",
    "    return n\n",
    "\n",
    "zs = np.linspace(0, 20, 501)\n",
    "n_50s_num = []\n",
    "for zi in zs:\n",
    "    n_50s_num.append(n_at_z_trapz(z0=zi, logmc=None, const_phi=const_phi))\n",
    "dvol = WMAP9.differential_comoving_volume(zs).value\n",
    "nv = n_50s_num * dvol\n",
    "\n",
    "if not const_phi:\n",
    "    # smooth it so we do not have sharp transitions due to Mc(z) being a non-monotonously increasing function.\n",
    "    nv = gaussian_filter1d(nv, 10)\n",
    "    \n",
    "# normalize int_0^20 p(z) = 1\n",
    "p_int = np.trapz(nv, zs)\n",
    "pdf_at_z = nv/p_int\n",
    "\n",
    "invalid = np.where(pdf_at_z<0)\n",
    "pdf_at_z[invalid] = 0\n",
    "\n",
    "plt.plot(zs, pdf_at_z)\n",
    "plt.axvline(0.2, ls=':', c='gray')\n",
    "plt.axvline(3, ls=':', c='gray')\n",
    "# plt.yscale('log')\n",
    "plt.xlabel(r'z')\n",
    "plt.ylabel(r'pdf')\n",
    "plt.show()"
   ]
  },
  {
   "cell_type": "code",
   "execution_count": null,
   "id": "25996e54",
   "metadata": {},
   "outputs": [],
   "source": [
    "if const_phi:\n",
    "    np.savetxt(prior_data_dir+'pdf_of_z_l20.txt', np.array([zs, pdf_at_z]).T, header='z, probability of observing a galaxy at z')\n",
    "else:\n",
    "    np.savetxt(prior_data_dir+'pdf_of_z_l20t18.txt', np.array([zs, pdf_at_z]).T, header='z, probability of observing a galaxy at z')\n"
   ]
  },
  {
   "cell_type": "code",
   "execution_count": null,
   "id": "511e2380",
   "metadata": {},
   "outputs": [],
   "source": []
  }
 ],
 "metadata": {
  "kernelspec": {
   "display_name": "yaargh",
   "language": "python",
   "name": "yaargh"
  },
  "language_info": {
   "codemirror_mode": {
    "name": "ipython",
    "version": 3
   },
   "file_extension": ".py",
   "mimetype": "text/x-python",
   "name": "python",
   "nbconvert_exporter": "python",
   "pygments_lexer": "ipython3",
   "version": "3.8.15"
  }
 },
 "nbformat": 4,
 "nbformat_minor": 5
}
